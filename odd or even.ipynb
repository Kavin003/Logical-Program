{
 "cells": [
  {
   "cell_type": "markdown",
   "id": "c223d5d2",
   "metadata": {},
   "source": [
    "# \"ODD or EVEN\""
   ]
  },
  {
   "cell_type": "code",
   "execution_count": 8,
   "id": "c8a6f190",
   "metadata": {},
   "outputs": [
    {
     "name": "stdout",
     "output_type": "stream",
     "text": [
      "enter the number:33\n",
      "33 is a odd number\n"
     ]
    }
   ],
   "source": [
    "##odd number\n",
    "n=int(input('enter the number:'))\n",
    "if(n%2==0):\n",
    "    print(n,\"is a even number\")\n",
    "else:\n",
    "    print(n,\"is a odd number\")"
   ]
  },
  {
   "cell_type": "code",
   "execution_count": 9,
   "id": "201f6533",
   "metadata": {},
   "outputs": [
    {
     "name": "stdout",
     "output_type": "stream",
     "text": [
      "enter the number:22\n",
      "22 is a even number\n"
     ]
    }
   ],
   "source": [
    "## even number\n",
    "n=int(input('enter the number:'))\n",
    "if(n%2==0):\n",
    "    print(n,\"is a even number\")\n",
    "else:\n",
    "    print(n,\"is a odd number\")"
   ]
  },
  {
   "cell_type": "code",
   "execution_count": null,
   "id": "1a99c39f",
   "metadata": {},
   "outputs": [],
   "source": []
  }
 ],
 "metadata": {
  "kernelspec": {
   "display_name": "Python 3 (ipykernel)",
   "language": "python",
   "name": "python3"
  },
  "language_info": {
   "codemirror_mode": {
    "name": "ipython",
    "version": 3
   },
   "file_extension": ".py",
   "mimetype": "text/x-python",
   "name": "python",
   "nbconvert_exporter": "python",
   "pygments_lexer": "ipython3",
   "version": "3.10.9"
  }
 },
 "nbformat": 4,
 "nbformat_minor": 5
}
